{
 "cells": [
  {
   "cell_type": "code",
   "execution_count": 1,
   "id": "e667fb6f",
   "metadata": {},
   "outputs": [
    {
     "name": "stdout",
     "output_type": "stream",
     "text": [
      "Enter number6\n",
      "i= 6\n",
      "rev 6\n",
      "6\n"
     ]
    }
   ],
   "source": [
    "# wap to find reverce of a given number\n",
    "i=int(input('Enter number'))\n",
    "rev=0\n",
    "while i>0:\n",
    "#     print(i)\n",
    "    LastDigit=(i%10)  #(last ka num lane k liye mudule oprator)\n",
    "    rev=rev*10+LastDigit  #(module se ane vale reminder num ko rev me sev kiya )\n",
    "    \n",
    "    print('i=',i)\n",
    "    print('rev',rev)\n",
    "    i=i//10\n",
    "print(rev)    "
   ]
  },
  {
   "cell_type": "code",
   "execution_count": 14,
   "id": "934ab58b",
   "metadata": {},
   "outputs": [
    {
     "name": "stdout",
     "output_type": "stream",
     "text": [
      "Enter number56\n",
      "reverce= 65\n"
     ]
    }
   ],
   "source": [
    "# wap to find reverce of a given number\n",
    "i=int(input('Enter number'))\n",
    "reverce=0\n",
    "while i>0:\n",
    "    reverce=reverce*10+(i%10)\n",
    "    i=i//10\n",
    "print(\"reverce=\",reverce)"
   ]
  },
  {
   "cell_type": "code",
   "execution_count": 3,
   "id": "735f3f9d",
   "metadata": {},
   "outputs": [
    {
     "name": "stdout",
     "output_type": "stream",
     "text": [
      "Enter number56\n",
      "product of Digit 30\n"
     ]
    }
   ],
   "source": [
    "# Wap to find product of digit of a given number(Diye gye nuber ko apas me guna krna)\n",
    "i=int(input('Enter number'))\n",
    "prod=1\n",
    "while i>1:\n",
    "    h=(i%10)\n",
    "    prod=prod*h\n",
    "    i=i//10\n",
    "print('product of Digit', prod)\n"
   ]
  },
  {
   "cell_type": "code",
   "execution_count": 4,
   "id": "c6d43180",
   "metadata": {},
   "outputs": [
    {
     "name": "stdout",
     "output_type": "stream",
     "text": [
      "Enter number65\n",
      "30\n"
     ]
    }
   ],
   "source": [
    "# Wap to find product of digit of a given number(Diye gye nuber ko apas me guna krna)\n",
    "n=int(input('Enter number'))\n",
    "product=1\n",
    "while n!=0:\n",
    "    product=product*(n%10)\n",
    "    n=n//10\n",
    "print(product)    "
   ]
  },
  {
   "cell_type": "code",
   "execution_count": null,
   "id": "ad9509d6",
   "metadata": {},
   "outputs": [],
   "source": []
  },
  {
   "cell_type": "code",
   "execution_count": 9,
   "id": "bd2e1bba",
   "metadata": {},
   "outputs": [
    {
     "name": "stdout",
     "output_type": "stream",
     "text": [
      "Suru k kitne number chte he aap5\n",
      "b vala Even num 2\n",
      "count= 1\n",
      "b vala Even num 4\n",
      "count= 2\n",
      "b vala Even num 6\n",
      "count= 3\n",
      "b vala Even num 8\n",
      "count= 4\n",
      "b vala Even num 10\n",
      "count= 5\n"
     ]
    }
   ],
   "source": [
    "# shuru k user jitne even nubers chahta uske  liye coad\n",
    "i=int(input('Suru k kitne number chte he aap'))\n",
    "b=1\n",
    "count=0\n",
    "while count<i:   #(niche count krta rahega kitne nub count hue isliye count pr condition lagayi)\n",
    "    if b%2==0:\n",
    "        print('b vala Even num',b)\n",
    "        count=count+1\n",
    "        print('count=',count)\n",
    "    b=b+1   "
   ]
  },
  {
   "cell_type": "code",
   "execution_count": 8,
   "id": "5cdfea64",
   "metadata": {},
   "outputs": [
    {
     "name": "stdout",
     "output_type": "stream",
     "text": [
      "Enter Number =3\n",
      "SUM= 27\n",
      "orignal num= 3\n",
      "This is not Armstrong Nub=> 3\n"
     ]
    }
   ],
   "source": [
    "# Q2. wap to check whether a given number is armstrong or not\n",
    "a=int(input('Enter Number ='))\n",
    "orig=a\n",
    "sum=0\n",
    "while a>0:\n",
    "    sum=sum+(a%10)*(a%10)*(a%10)\n",
    "    a=a//10\n",
    "print(\"SUM=\",sum) \n",
    "print(\"orignal num=\",orig)\n",
    "if sum==orig:\n",
    "    print(\"This is Armstrong Nub=>\",orig)    \n",
    "else:\n",
    "    print(\"This is not Armstrong Nub=>\",orig)    \n",
    "    \n",
    "    "
   ]
  },
  {
   "cell_type": "code",
   "execution_count": null,
   "id": "567495cb",
   "metadata": {},
   "outputs": [],
   "source": [
    "#Q3. Wap to program to find sum of CUBE of digits of a given num(Digit k cube ka Sum)\n",
    "b=int(input('Enter Number to find sum of cube of Digit='))\n",
    "sum=0\n",
    "while b>0:\n",
    "    print('Digit=',b)\n",
    "    mudule=b%10\n",
    "    print('b=',mudule,)\n",
    "    B_Cube=mudule*mudule*mudule\n",
    "    print('b ka Cube',B_Cube)\n",
    "    sum=sum+B_Cube\n",
    "    b=b//10\n",
    "print('B ki CUBE ka sum=',sum)    "
   ]
  },
  {
   "cell_type": "code",
   "execution_count": null,
   "id": "b131bf13",
   "metadata": {},
   "outputs": [],
   "source": [
    "#Q3. Wap to program to find sum of CUBE of digits of a given num(Digit k cube ka Sum)\n",
    "a=int(input('Enter Number to find sum of cube of Digit'))\n",
    "sum=0\n",
    "while a>0:\n",
    "    print(\"a=\",a)\n",
    "    sum=sum+(a%10)*(a%10)*(a%10)\n",
    "    a=a//10\n",
    "print('SUM OF CUBE(sum+(a%10)*(a%10)*(a%10))=',sum)    "
   ]
  },
  {
   "cell_type": "code",
   "execution_count": null,
   "id": "903fac88",
   "metadata": {},
   "outputs": [],
   "source": [
    "# Q2.Wap to program to find sum of SQUARE of digits of a given num(Digit k Square ka Sum)\n",
    "n=int(input(\"given num do you sum of SQUARE of digits= \"))\n",
    "sum=0\n",
    "while n>0:\n",
    "    print(n)\n",
    "    sum=sum+(n%10)*(n%10)\n",
    "    n=n//10\n",
    "print('sum of SQUARE of digits =',sum)    "
   ]
  },
  {
   "cell_type": "code",
   "execution_count": null,
   "id": "f821a819",
   "metadata": {},
   "outputs": [],
   "source": [
    "#Q2. Wap to program to find sum of SQUARE of digits of a given num(Digit k Square ka Sum)\n",
    "n=int(input(\"given num do you sum of SQUARE of digits \"))\n",
    "sum=0\n",
    "while n>0:\n",
    "    print(\"n\",n)\n",
    "    m=n%10\n",
    "    print(\"m(n%10)=\",m)\n",
    "    d=m*m\n",
    "    print(\"d(m*m=)\",d)\n",
    "    sum=sum+d\n",
    "    print('sum(sum+d)=',sum)\n",
    "    n=n//10\n",
    "print(\"sum of sqr(sum=sum+d)=\",sum)"
   ]
  },
  {
   "cell_type": "code",
   "execution_count": null,
   "id": "602de5f5",
   "metadata": {},
   "outputs": [],
   "source": [
    "#Q1. write a program to find sum of digit of a given numbers.\n",
    "n=int(input(\"Enter dijit do you want add\"))\n",
    "sum=0\n",
    "while n>0:\n",
    "    k=(n%10)\n",
    "    print(k)\n",
    "    sum=sum+k\n",
    "    n=n//10\n",
    "print('sum of digit=', sum)"
   ]
  },
  {
   "cell_type": "code",
   "execution_count": null,
   "id": "1f48bdac",
   "metadata": {},
   "outputs": [],
   "source": [
    "#Q1. write a program to find sum of digit of a given numbers.\n",
    "p=int(input('enter digit which you want to sum'))\n",
    "sum=0\n",
    "while p>0:\n",
    "    sum=sum+p%10   #digit ka last num modulas opt se bahar nikalna\n",
    "    p=p//10        #division opt num ko decrement krne k liye\n",
    "print('sum of digit=',sum)    "
   ]
  },
  {
   "cell_type": "code",
   "execution_count": null,
   "id": "fb2acef9",
   "metadata": {},
   "outputs": [],
   "source": []
  }
 ],
 "metadata": {
  "kernelspec": {
   "display_name": "Python 3 (ipykernel)",
   "language": "python",
   "name": "python3"
  },
  "language_info": {
   "codemirror_mode": {
    "name": "ipython",
    "version": 3
   },
   "file_extension": ".py",
   "mimetype": "text/x-python",
   "name": "python",
   "nbconvert_exporter": "python",
   "pygments_lexer": "ipython3",
   "version": "3.9.7"
  }
 },
 "nbformat": 4,
 "nbformat_minor": 5
}
