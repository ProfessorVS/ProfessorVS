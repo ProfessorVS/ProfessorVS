{
 "cells": [
  {
   "cell_type": "code",
   "execution_count": 1,
   "id": "9622edcd",
   "metadata": {},
   "outputs": [
    {
     "name": "stdout",
     "output_type": "stream",
     "text": [
      "Sum = 1  count= 1\n",
      "Sum = 2  count= 2\n",
      "Sum = 3  count= 3\n",
      "Sum = 5  count= 4\n",
      "Sum = 8  count= 5\n",
      "Sum = 13  count= 6\n",
      "Sum = 21  count= 7\n",
      "Sum = 34  count= 8\n",
      "Sum = 55  count= 9\n",
      "Sum = 89  count= 10\n"
     ]
    }
   ],
   "source": [
    "# wap to print fibonaki series upto a given number?\n",
    "# wap to print fibonaki series using for loop\n",
    "a=1\n",
    "b=0\n",
    "Sum=1  #(a+b=1+0=1)\n",
    "count=0\n",
    "for i in range(1,11):\n",
    "    \n",
    "    a=b\n",
    "    b=Sum\n",
    "    Sum=a+b\n",
    "    print('Sum =',Sum,\" \" ,end='')\n",
    "    count=1+count\n",
    "    print('count=',count)\n",
    "\n"
   ]
  },
  {
   "cell_type": "code",
   "execution_count": 2,
   "id": "15b224d8",
   "metadata": {},
   "outputs": [
    {
     "name": "stdout",
     "output_type": "stream",
     "text": [
      "Enter number2\n",
      "factorial(fac*i)= 2\n",
      "factorial(fac*i)= 2\n",
      "Factorial Num= 2\n"
     ]
    }
   ],
   "source": [
    "# wap to program print Fectorial of a given number?\n",
    "# (user ne jo num diya he vaha se opiste last num yani one tk multi hote jayeja) #(fac=5*4*3*2*1)\n",
    "i=int(input('Enter number'))\n",
    "fac=1         # (kisi v number ko multi 1 se krne pr same num lane k liye)\n",
    "while i>0:\n",
    "    fac=fac*i\n",
    "    print('factorial(fac*i)=',fac) \n",
    "    i=i-1\n",
    "print('Factorial Num=',fac)       "
   ]
  },
  {
   "cell_type": "code",
   "execution_count": 2,
   "id": "aed3271d",
   "metadata": {},
   "outputs": [
    {
     "name": "stdout",
     "output_type": "stream",
     "text": [
      "Enter Number5\n",
      "prime no= 5\n"
     ]
    }
   ],
   "source": [
    "# wap to check wether a given number prime is or not?(jiske factor numbers 2 hi hote he use prime no kehte he)\n",
    "n=int(input('Enter Number'))\n",
    "count=0\n",
    "a=1\n",
    "while a<=n:\n",
    "    if n%a==0:\n",
    "        count=count+1\n",
    "    a=a+1\n",
    "if count==2:\n",
    "    print('prime no=',n)\n",
    "else:\n",
    "    print('not prime num=',n)    "
   ]
  },
  {
   "cell_type": "code",
   "execution_count": null,
   "id": "b061b5ab",
   "metadata": {},
   "outputs": [],
   "source": []
  },
  {
   "cell_type": "code",
   "execution_count": 4,
   "id": "ecb0b77a",
   "metadata": {},
   "outputs": [
    {
     "name": "stdout",
     "output_type": "stream",
     "text": [
      "Enter number1\n",
      "REVERCE Num 1\n",
      "This is Palindrome Number\n"
     ]
    }
   ],
   "source": [
    "# wap to check wether a given number is palindrome or not?\n",
    "a=int(input('Enter number'))\n",
    "origanal_Num=a\n",
    "reverce=0\n",
    "while a>0:\n",
    "    reverce=reverce*10+(a%10)\n",
    "    a=a//10\n",
    "print('REVERCE Num',reverce)    \n",
    "if reverce==origanal_Num:\n",
    "    print(\"This is Palindrome Number\")\n",
    "else:\n",
    "    print('This is not Palindrome Number')\n",
    "        "
   ]
  },
  {
   "cell_type": "code",
   "execution_count": null,
   "id": "7610fa2b",
   "metadata": {},
   "outputs": [],
   "source": []
  },
  {
   "cell_type": "code",
   "execution_count": null,
   "id": "6e3b1e89",
   "metadata": {},
   "outputs": [],
   "source": []
  }
 ],
 "metadata": {
  "kernelspec": {
   "display_name": "Python 3 (ipykernel)",
   "language": "python",
   "name": "python3"
  },
  "language_info": {
   "codemirror_mode": {
    "name": "ipython",
    "version": 3
   },
   "file_extension": ".py",
   "mimetype": "text/x-python",
   "name": "python",
   "nbconvert_exporter": "python",
   "pygments_lexer": "ipython3",
   "version": "3.9.7"
  }
 },
 "nbformat": 4,
 "nbformat_minor": 5
}
